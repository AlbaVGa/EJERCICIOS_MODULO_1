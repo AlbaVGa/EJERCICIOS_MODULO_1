{
 "cells": [
  {
   "cell_type": "code",
   "execution_count": 3,
   "metadata": {},
   "outputs": [],
   "source": [
    "## EJERCICIOS ADICIONALES- SENTENCIAS DE CONTROL"
   ]
  },
  {
   "cell_type": "code",
   "execution_count": 4,
   "metadata": {},
   "outputs": [],
   "source": [
    "# 1. Imprimir los números del 1 al 5 utilizando un bucle for. Descripción: Utiliza un bucleforpara imprimir los números del 1 al 5 (incluido) en orden ascendente."
   ]
  },
  {
   "cell_type": "code",
   "execution_count": 9,
   "metadata": {},
   "outputs": [
    {
     "name": "stdout",
     "output_type": "stream",
     "text": [
      "1\n",
      "2\n",
      "3\n",
      "4\n",
      "5\n"
     ]
    }
   ],
   "source": [
    "numeros=[1,2,3,4,5]\n",
    "\n",
    "for numero in numeros:\n",
    "    print(numero)"
   ]
  },
  {
   "cell_type": "code",
   "execution_count": 2,
   "metadata": {},
   "outputs": [],
   "source": [
    "# 2. Calcular la suma de los primeros 10 números naturales utilizando un bucle for. Descripción: Utiliza un bucle for para calcular la suma de los primeros 10 números naturales (1 - 2 3o ... - 10)."
   ]
  },
  {
   "cell_type": "code",
   "execution_count": 17,
   "metadata": {},
   "outputs": [
    {
     "name": "stdout",
     "output_type": "stream",
     "text": [
      "0\n",
      "1\n",
      "3\n",
      "6\n",
      "10\n",
      "15\n",
      "21\n",
      "28\n",
      "36\n",
      "45\n",
      "55\n"
     ]
    }
   ],
   "source": [
    "numeros_naturales=[0,1,2,3,4,5,6,7,8,9,10]\n",
    "\n",
    "suma = 0\n",
    "\n",
    "for numero in numeros_naturales:\n",
    "    suma+=numero\n",
    "    print(suma)"
   ]
  },
  {
   "cell_type": "code",
   "execution_count": 20,
   "metadata": {},
   "outputs": [],
   "source": [
    "# 3. Calcular el producto de los elementos de una lista. Descripción: Dada una lista de números, utiliza un bucle forpara el producto de todos los elementos."
   ]
  },
  {
   "cell_type": "code",
   "execution_count": 34,
   "metadata": {},
   "outputs": [
    {
     "name": "stdout",
     "output_type": "stream",
     "text": [
      "El producto de los elementos de la lista es: 120\n"
     ]
    }
   ],
   "source": [
    "# Lista de números\n",
    "numeros = [1, 2, 3, 4, 5]\n",
    "\n",
    "# Inicializar el producto en 1 (multiplicación)\n",
    "elemento = 1\n",
    "\n",
    "# Bucle para calcular el producto\n",
    "for numero in numeros:\n",
    "    elemento *= numero  # Multiplicar cada número al producto\n",
    "\n",
    "# Mostrar el resultado\n",
    "print(\"El producto de los elementos de la lista es:\", elemento)\n"
   ]
  },
  {
   "cell_type": "code",
   "execution_count": null,
   "metadata": {},
   "outputs": [],
   "source": [
    "# 4.  Descripción: Dada una cadena de texto, utiliza un bucle for para imprimir cada carácter en una línea separada.Imprimir los caracteres de una cadena de texto."
   ]
  },
  {
   "cell_type": "code",
   "execution_count": 38,
   "metadata": {},
   "outputs": [
    {
     "name": "stdout",
     "output_type": "stream",
     "text": [
      "H\n",
      "O\n",
      "L\n",
      "A\n",
      " \n",
      "C\n",
      "O\n",
      "M\n",
      "P\n",
      "A\n",
      "Ñ\n",
      "E\n",
      "R\n",
      "A\n",
      "S\n",
      " \n",
      "D\n",
      "E\n",
      " \n",
      "A\n",
      "D\n",
      "A\n",
      "L\n",
      "A\n",
      "B\n"
     ]
    }
   ],
   "source": [
    "cadena_texto=\"HOLA COMPAÑERAS DE ADALAB\"\n",
    "\n",
    "for palabra in cadena_texto:\n",
    "    print(palabra)"
   ]
  },
  {
   "cell_type": "code",
   "execution_count": 39,
   "metadata": {},
   "outputs": [],
   "source": [
    "# 5. Imprimir los números pares del 1 al 100 utilizando un for. Descripción: Utiliza un bucleforpara imprimir los números pares del 1 al 100 en orden ascendente."
   ]
  },
  {
   "cell_type": "code",
   "execution_count": 41,
   "metadata": {},
   "outputs": [
    {
     "name": "stdout",
     "output_type": "stream",
     "text": [
      "2\n",
      "4\n",
      "6\n",
      "8\n",
      "10\n",
      "12\n",
      "14\n",
      "16\n",
      "18\n",
      "20\n",
      "22\n",
      "24\n",
      "26\n",
      "28\n",
      "30\n",
      "32\n",
      "34\n",
      "36\n",
      "38\n",
      "40\n",
      "42\n",
      "44\n",
      "46\n",
      "48\n",
      "50\n",
      "52\n",
      "54\n",
      "56\n",
      "58\n",
      "60\n",
      "62\n",
      "64\n",
      "66\n",
      "68\n",
      "70\n",
      "72\n",
      "74\n",
      "76\n",
      "78\n",
      "80\n",
      "82\n",
      "84\n",
      "86\n",
      "88\n",
      "90\n",
      "92\n",
      "94\n",
      "96\n",
      "98\n",
      "100\n"
     ]
    }
   ],
   "source": [
    "for numero in range(1,101):\n",
    "   if numero % 2== 0:\n",
    "       print(numero)"
   ]
  },
  {
   "cell_type": "code",
   "execution_count": 44,
   "metadata": {},
   "outputs": [],
   "source": [
    "# 6. Imprimir los números primos del 1 al 50 utilizando un bucle for.Descripción: Utiliza un bucle for para imprimir los números primos del 1 al 50 en orden ascendente. Segun wikipedia, numero primo es numero natural >1 que unicamente  tiene 2 divisores: el mismo y 1."
   ]
  },
  {
   "cell_type": "code",
   "execution_count": 55,
   "metadata": {},
   "outputs": [
    {
     "name": "stdout",
     "output_type": "stream",
     "text": [
      "2\n",
      "3\n"
     ]
    }
   ],
   "source": [
    "\n",
    "# NO CLARO\n",
    "for numero in range (2,51):\n",
    "    numero_primo= True\n",
    "    for i  in range (2,int(numero **0.5)+1):\n",
    "        if numero % 1== 0:\n",
    "            numero_primo=False\n",
    "            break\n",
    "    if numero_primo:\n",
    "        print(numero) "
   ]
  },
  {
   "cell_type": "code",
   "execution_count": 26,
   "metadata": {},
   "outputs": [],
   "source": [
    "# 7 Calcular el factorial de un número utilizando un bucle for.  Descripción: Dado un número entero positivo, calcula su factorial utilizando un buclefor."
   ]
  },
  {
   "cell_type": "code",
   "execution_count": 28,
   "metadata": {},
   "outputs": [
    {
     "name": "stdout",
     "output_type": "stream",
     "text": [
      "el factorial de 5 es 120\n"
     ]
    }
   ],
   "source": [
    "\n",
    "\n",
    "def factorial_numero(n):    # definimos la funcion factorial_numeros\n",
    "    if n<0:\n",
    "        print('el factorial no admite numeros negativos')\n",
    "    resultado=1     # inicializamos la variable resultado en 1.\n",
    "    for i in range(1,n+1):\n",
    "        resultado *= i  # multiplica el resultado por cada numero de la secuencia.\n",
    "    return resultado\n",
    "n=5\n",
    "print(f'el factorial de {n} es {factorial_numero(n)}')\n"
   ]
  },
  {
   "cell_type": "code",
   "execution_count": null,
   "metadata": {},
   "outputs": [],
   "source": [
    "# 8. Juego de adivinar palabras utilizando un bucle for."
   ]
  },
  {
   "cell_type": "code",
   "execution_count": 38,
   "metadata": {},
   "outputs": [
    {
     "name": "stdout",
     "output_type": "stream",
     "text": [
      "¡Bienvenido al juego de adivinar la palabra!\n",
      "Tienes 5 intentos para adivinar la palabra.\n",
      "Intenta de nuevo.\n",
      "Te quedan 4 intentos.\n",
      "Intenta de nuevo.\n",
      "Te quedan 3 intentos.\n",
      "Intenta de nuevo.\n",
      "Te quedan 2 intentos.\n",
      "Intenta de nuevo.\n",
      "Te quedan 1 intentos.\n",
      "Intenta de nuevo.\n",
      "Te quedan 0 intentos.\n",
      "Lo siento, has agotado tus intentos. La palabra era 'python'.\n"
     ]
    }
   ],
   "source": [
    "import random\n",
    "\n",
    "# Lista de palabras para adivinar\n",
    "palabras = [\"python\", \"programacion\", \"juego\", \"adivinar\", \"codigo\"]\n",
    "\n",
    "# Elegir una palabra al azar\n",
    "palabra_a_adivinar = random.choice(palabras)\n",
    "intentos = 5  # Número de intentos permitidos\n",
    "\n",
    "print(\"¡Bienvenido al juego de adivinar la palabra!\")\n",
    "print(f\"Tienes {intentos} intentos para adivinar la palabra.\")\n",
    "\n",
    "# Bucle para los intentos\n",
    "for intento in range(intentos):\n",
    "    # Solicitar al usuario que adivine la palabra\n",
    "    adivinanza = input(\"Ingresa tu adivinanza: \").lower()  # Convertir a minúsculas\n",
    "\n",
    "    # Comprobar si la adivinanza es correcta\n",
    "    if adivinanza == palabra_a_adivinar:\n",
    "        print(\"¡Felicidades! Adivinaste la palabra.\")\n",
    "        break  # Salir del bucle si la adivinanza es correcta\n",
    "    else:\n",
    "        print(\"Intenta de nuevo.\")\n",
    "        print(f\"Te quedan {intentos - intento - 1} intentos.\")\n",
    "\n",
    "# Comprobar si se agotaron los intentos\n",
    "if adivinanza != palabra_a_adivinar:\n",
    "    print(f\"Lo siento, has agotado tus intentos. La palabra era '{palabra_a_adivinar}'.\")\n"
   ]
  }
 ],
 "metadata": {
  "kernelspec": {
   "display_name": "base",
   "language": "python",
   "name": "python3"
  },
  "language_info": {
   "codemirror_mode": {
    "name": "ipython",
    "version": 3
   },
   "file_extension": ".py",
   "mimetype": "text/x-python",
   "name": "python",
   "nbconvert_exporter": "python",
   "pygments_lexer": "ipython3",
   "version": "3.11.5"
  }
 },
 "nbformat": 4,
 "nbformat_minor": 2
}
